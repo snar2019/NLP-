{
  "nbformat": 4,
  "nbformat_minor": 0,
  "metadata": {
    "colab": {
      "name": "Spam_classification_BERT.ipynb",
      "provenance": [],
      "collapsed_sections": []
    },
    "kernelspec": {
      "name": "python3",
      "display_name": "Python 3"
    },
    "language_info": {
      "name": "python"
    }
  },
  "cells": [
    {
      "cell_type": "code",
      "metadata": {
        "id": "X9gnDBKom5iG"
      },
      "source": [
        "import tensorflow as tf\n",
        "import tensorflow_hub as hub\n",
        "import tensorflow_text as text"
      ],
      "execution_count": 4,
      "outputs": []
    },
    {
      "cell_type": "code",
      "metadata": {
        "id": "B9dT1qIim9Yh"
      },
      "source": [
        "import pandas as pd\n",
        "df = pd.read_csv('/content/sample_data/sms_spam.csv')"
      ],
      "execution_count": 7,
      "outputs": []
    },
    {
      "cell_type": "code",
      "metadata": {
        "colab": {
          "base_uri": "https://localhost:8080/",
          "height": 206
        },
        "id": "u9wE3ZV2m9bf",
        "outputId": "ca602dc4-7470-4a45-d8dc-7fc7f67402cd"
      },
      "source": [
        "df.head()"
      ],
      "execution_count": 8,
      "outputs": [
        {
          "output_type": "execute_result",
          "data": {
            "text/html": [
              "<div>\n",
              "<style scoped>\n",
              "    .dataframe tbody tr th:only-of-type {\n",
              "        vertical-align: middle;\n",
              "    }\n",
              "\n",
              "    .dataframe tbody tr th {\n",
              "        vertical-align: top;\n",
              "    }\n",
              "\n",
              "    .dataframe thead th {\n",
              "        text-align: right;\n",
              "    }\n",
              "</style>\n",
              "<table border=\"1\" class=\"dataframe\">\n",
              "  <thead>\n",
              "    <tr style=\"text-align: right;\">\n",
              "      <th></th>\n",
              "      <th>type</th>\n",
              "      <th>text</th>\n",
              "    </tr>\n",
              "  </thead>\n",
              "  <tbody>\n",
              "    <tr>\n",
              "      <th>0</th>\n",
              "      <td>ham</td>\n",
              "      <td>Hope you are having a good week. Just checking in</td>\n",
              "    </tr>\n",
              "    <tr>\n",
              "      <th>1</th>\n",
              "      <td>ham</td>\n",
              "      <td>K..give back my thanks.</td>\n",
              "    </tr>\n",
              "    <tr>\n",
              "      <th>2</th>\n",
              "      <td>ham</td>\n",
              "      <td>Am also doing in cbe only. But have to pay.</td>\n",
              "    </tr>\n",
              "    <tr>\n",
              "      <th>3</th>\n",
              "      <td>spam</td>\n",
              "      <td>complimentary 4 STAR Ibiza Holiday or £10,000 ...</td>\n",
              "    </tr>\n",
              "    <tr>\n",
              "      <th>4</th>\n",
              "      <td>spam</td>\n",
              "      <td>okmail: Dear Dave this is your final notice to...</td>\n",
              "    </tr>\n",
              "  </tbody>\n",
              "</table>\n",
              "</div>"
            ],
            "text/plain": [
              "   type                                               text\n",
              "0   ham  Hope you are having a good week. Just checking in\n",
              "1   ham                            K..give back my thanks.\n",
              "2   ham        Am also doing in cbe only. But have to pay.\n",
              "3  spam  complimentary 4 STAR Ibiza Holiday or £10,000 ...\n",
              "4  spam  okmail: Dear Dave this is your final notice to..."
            ]
          },
          "metadata": {},
          "execution_count": 8
        }
      ]
    },
    {
      "cell_type": "code",
      "metadata": {
        "colab": {
          "base_uri": "https://localhost:8080/"
        },
        "id": "lbx0rZ0pm9gq",
        "outputId": "59d66768-ff3d-496c-9187-acf27bd2c40f"
      },
      "source": [
        "df.columns"
      ],
      "execution_count": 9,
      "outputs": [
        {
          "output_type": "execute_result",
          "data": {
            "text/plain": [
              "Index(['type', 'text'], dtype='object')"
            ]
          },
          "metadata": {},
          "execution_count": 9
        }
      ]
    },
    {
      "cell_type": "code",
      "metadata": {
        "colab": {
          "base_uri": "https://localhost:8080/",
          "height": 174
        },
        "id": "Qpu7xEAqm9eb",
        "outputId": "d3a94ad1-99d3-4c1e-8a93-d75057f1c202"
      },
      "source": [
        "df.groupby('type').describe()"
      ],
      "execution_count": 12,
      "outputs": [
        {
          "output_type": "execute_result",
          "data": {
            "text/html": [
              "<div>\n",
              "<style scoped>\n",
              "    .dataframe tbody tr th:only-of-type {\n",
              "        vertical-align: middle;\n",
              "    }\n",
              "\n",
              "    .dataframe tbody tr th {\n",
              "        vertical-align: top;\n",
              "    }\n",
              "\n",
              "    .dataframe thead tr th {\n",
              "        text-align: left;\n",
              "    }\n",
              "\n",
              "    .dataframe thead tr:last-of-type th {\n",
              "        text-align: right;\n",
              "    }\n",
              "</style>\n",
              "<table border=\"1\" class=\"dataframe\">\n",
              "  <thead>\n",
              "    <tr>\n",
              "      <th></th>\n",
              "      <th colspan=\"4\" halign=\"left\">text</th>\n",
              "    </tr>\n",
              "    <tr>\n",
              "      <th></th>\n",
              "      <th>count</th>\n",
              "      <th>unique</th>\n",
              "      <th>top</th>\n",
              "      <th>freq</th>\n",
              "    </tr>\n",
              "    <tr>\n",
              "      <th>type</th>\n",
              "      <th></th>\n",
              "      <th></th>\n",
              "      <th></th>\n",
              "      <th></th>\n",
              "    </tr>\n",
              "  </thead>\n",
              "  <tbody>\n",
              "    <tr>\n",
              "      <th>ham</th>\n",
              "      <td>4812</td>\n",
              "      <td>4503</td>\n",
              "      <td>Sorry, I'll call later</td>\n",
              "      <td>30</td>\n",
              "    </tr>\n",
              "    <tr>\n",
              "      <th>spam</th>\n",
              "      <td>747</td>\n",
              "      <td>653</td>\n",
              "      <td>Please call our customer service representativ...</td>\n",
              "      <td>4</td>\n",
              "    </tr>\n",
              "  </tbody>\n",
              "</table>\n",
              "</div>"
            ],
            "text/plain": [
              "      text                                                               \n",
              "     count unique                                                top freq\n",
              "type                                                                     \n",
              "ham   4812   4503                             Sorry, I'll call later   30\n",
              "spam   747    653  Please call our customer service representativ...    4"
            ]
          },
          "metadata": {},
          "execution_count": 12
        }
      ]
    },
    {
      "cell_type": "code",
      "metadata": {
        "colab": {
          "base_uri": "https://localhost:8080/"
        },
        "id": "6J_rNZoCm9jv",
        "outputId": "26483bf0-fc56-49d1-a87c-5e4ad8fb9c6b"
      },
      "source": [
        "df['type'].value_counts()"
      ],
      "execution_count": 13,
      "outputs": [
        {
          "output_type": "execute_result",
          "data": {
            "text/plain": [
              "ham     4812\n",
              "spam     747\n",
              "Name: type, dtype: int64"
            ]
          },
          "metadata": {},
          "execution_count": 13
        }
      ]
    },
    {
      "cell_type": "code",
      "metadata": {
        "colab": {
          "base_uri": "https://localhost:8080/"
        },
        "id": "cI3WaAJwm9mF",
        "outputId": "fc1727e9-4b75-4d57-a952-11d1d28592eb"
      },
      "source": [
        "# this is an imbalanced datasets so we will undersample it to balance it \n",
        "#there are other ways as well such as SMOTE and oversampling minority class\n",
        "747/4812 \n",
        "#( here we are going by simple approch)\n"
      ],
      "execution_count": 14,
      "outputs": [
        {
          "output_type": "execute_result",
          "data": {
            "text/plain": [
              "0.1552369077306733"
            ]
          },
          "metadata": {},
          "execution_count": 14
        }
      ]
    },
    {
      "cell_type": "code",
      "metadata": {
        "colab": {
          "base_uri": "https://localhost:8080/"
        },
        "id": "cBD6WJtGm9o4",
        "outputId": "86be7922-0b20-4809-c507-4f9cfd97e967"
      },
      "source": [
        "df_spam = df[df['type']== 'spam']\n",
        "df_spam.shape"
      ],
      "execution_count": 16,
      "outputs": [
        {
          "output_type": "execute_result",
          "data": {
            "text/plain": [
              "(747, 2)"
            ]
          },
          "metadata": {},
          "execution_count": 16
        }
      ]
    },
    {
      "cell_type": "code",
      "metadata": {
        "colab": {
          "base_uri": "https://localhost:8080/"
        },
        "id": "LSC2anYgreGy",
        "outputId": "49e105b4-0794-4b9e-e8e3-383b6b7e8256"
      },
      "source": [
        "df_ham = df[df['type']=='ham']\n",
        "\n",
        "df_ham.shape"
      ],
      "execution_count": 17,
      "outputs": [
        {
          "output_type": "execute_result",
          "data": {
            "text/plain": [
              "(4812, 2)"
            ]
          },
          "metadata": {},
          "execution_count": 17
        }
      ]
    },
    {
      "cell_type": "code",
      "metadata": {
        "colab": {
          "base_uri": "https://localhost:8080/",
          "height": 112
        },
        "id": "ZbTgaVdyrLR6",
        "outputId": "4f4f22b1-9727-458f-8b9f-0d5682b9297b"
      },
      "source": [
        "df_ham.sample(2)"
      ],
      "execution_count": 18,
      "outputs": [
        {
          "output_type": "execute_result",
          "data": {
            "text/html": [
              "<div>\n",
              "<style scoped>\n",
              "    .dataframe tbody tr th:only-of-type {\n",
              "        vertical-align: middle;\n",
              "    }\n",
              "\n",
              "    .dataframe tbody tr th {\n",
              "        vertical-align: top;\n",
              "    }\n",
              "\n",
              "    .dataframe thead th {\n",
              "        text-align: right;\n",
              "    }\n",
              "</style>\n",
              "<table border=\"1\" class=\"dataframe\">\n",
              "  <thead>\n",
              "    <tr style=\"text-align: right;\">\n",
              "      <th></th>\n",
              "      <th>type</th>\n",
              "      <th>text</th>\n",
              "    </tr>\n",
              "  </thead>\n",
              "  <tbody>\n",
              "    <tr>\n",
              "      <th>3570</th>\n",
              "      <td>ham</td>\n",
              "      <td>When you are big..| God will bring success.</td>\n",
              "    </tr>\n",
              "    <tr>\n",
              "      <th>4239</th>\n",
              "      <td>ham</td>\n",
              "      <td>what is your account number?</td>\n",
              "    </tr>\n",
              "  </tbody>\n",
              "</table>\n",
              "</div>"
            ],
            "text/plain": [
              "     type                                         text\n",
              "3570  ham  When you are big..| God will bring success.\n",
              "4239  ham                 what is your account number?"
            ]
          },
          "metadata": {},
          "execution_count": 18
        }
      ]
    },
    {
      "cell_type": "code",
      "metadata": {
        "colab": {
          "base_uri": "https://localhost:8080/"
        },
        "id": "k2sG3viLr7ty",
        "outputId": "81494897-7a87-4b30-cd77-f70471024d01"
      },
      "source": [
        "df_ham_downsample = df_ham.sample(df_spam.shape[0])\n",
        "df_ham_downsample.shape"
      ],
      "execution_count": 19,
      "outputs": [
        {
          "output_type": "execute_result",
          "data": {
            "text/plain": [
              "(747, 2)"
            ]
          },
          "metadata": {},
          "execution_count": 19
        }
      ]
    },
    {
      "cell_type": "code",
      "metadata": {
        "colab": {
          "base_uri": "https://localhost:8080/"
        },
        "id": "Zl_Sc-QZr72j",
        "outputId": "6c7cf4af-e29b-4839-da81-1c14510677d5"
      },
      "source": [
        "# now we will concatinate bothe the dataset \n",
        "df_balanced = pd.concat([df_spam,df_ham_downsample])\n",
        "df_balanced.shape"
      ],
      "execution_count": 21,
      "outputs": [
        {
          "output_type": "execute_result",
          "data": {
            "text/plain": [
              "(1494, 2)"
            ]
          },
          "metadata": {},
          "execution_count": 21
        }
      ]
    },
    {
      "cell_type": "code",
      "metadata": {
        "colab": {
          "base_uri": "https://localhost:8080/"
        },
        "id": "22SXeFIXr78T",
        "outputId": "7ab376d5-40f7-48fd-9a9f-f2aed7d2f429"
      },
      "source": [
        "df_balanced['type'].value_counts()"
      ],
      "execution_count": 23,
      "outputs": [
        {
          "output_type": "execute_result",
          "data": {
            "text/plain": [
              "spam    747\n",
              "ham     747\n",
              "Name: type, dtype: int64"
            ]
          },
          "metadata": {},
          "execution_count": 23
        }
      ]
    },
    {
      "cell_type": "code",
      "metadata": {
        "colab": {
          "base_uri": "https://localhost:8080/",
          "height": 206
        },
        "id": "McytWSMVr8FP",
        "outputId": "b1fba22c-4c17-4a22-fbd6-062eb8507fdb"
      },
      "source": [
        "df_balanced.sample(5)"
      ],
      "execution_count": 26,
      "outputs": [
        {
          "output_type": "execute_result",
          "data": {
            "text/html": [
              "<div>\n",
              "<style scoped>\n",
              "    .dataframe tbody tr th:only-of-type {\n",
              "        vertical-align: middle;\n",
              "    }\n",
              "\n",
              "    .dataframe tbody tr th {\n",
              "        vertical-align: top;\n",
              "    }\n",
              "\n",
              "    .dataframe thead th {\n",
              "        text-align: right;\n",
              "    }\n",
              "</style>\n",
              "<table border=\"1\" class=\"dataframe\">\n",
              "  <thead>\n",
              "    <tr style=\"text-align: right;\">\n",
              "      <th></th>\n",
              "      <th>type</th>\n",
              "      <th>text</th>\n",
              "    </tr>\n",
              "  </thead>\n",
              "  <tbody>\n",
              "    <tr>\n",
              "      <th>4113</th>\n",
              "      <td>spam</td>\n",
              "      <td>Urgent UR awarded a complimentary trip to Euro...</td>\n",
              "    </tr>\n",
              "    <tr>\n",
              "      <th>2790</th>\n",
              "      <td>spam</td>\n",
              "      <td>BangBabes Ur order is on the way. U SHOULD rec...</td>\n",
              "    </tr>\n",
              "    <tr>\n",
              "      <th>2366</th>\n",
              "      <td>ham</td>\n",
              "      <td>tap &amp; spile at seven. * Is that pub on gas st ...</td>\n",
              "    </tr>\n",
              "    <tr>\n",
              "      <th>4076</th>\n",
              "      <td>ham</td>\n",
              "      <td>Dont gimme that lip caveboy</td>\n",
              "    </tr>\n",
              "    <tr>\n",
              "      <th>5074</th>\n",
              "      <td>ham</td>\n",
              "      <td>I'm an actor. When i work, i work in the eveni...</td>\n",
              "    </tr>\n",
              "  </tbody>\n",
              "</table>\n",
              "</div>"
            ],
            "text/plain": [
              "      type                                               text\n",
              "4113  spam  Urgent UR awarded a complimentary trip to Euro...\n",
              "2790  spam  BangBabes Ur order is on the way. U SHOULD rec...\n",
              "2366   ham  tap & spile at seven. * Is that pub on gas st ...\n",
              "4076   ham                        Dont gimme that lip caveboy\n",
              "5074   ham  I'm an actor. When i work, i work in the eveni..."
            ]
          },
          "metadata": {},
          "execution_count": 26
        }
      ]
    },
    {
      "cell_type": "code",
      "metadata": {
        "id": "nJE7mjH_r8Ik"
      },
      "source": [
        "df_balanced['spam']=df_balanced['type'].apply(lambda x: 1 if x=='spam' else 0)"
      ],
      "execution_count": 30,
      "outputs": []
    },
    {
      "cell_type": "code",
      "metadata": {
        "colab": {
          "base_uri": "https://localhost:8080/",
          "height": 206
        },
        "id": "lkxVYye_r8Uh",
        "outputId": "a2184405-2199-48b3-82a2-fd57af2f41da"
      },
      "source": [
        "df_balanced.sample(5)"
      ],
      "execution_count": 32,
      "outputs": [
        {
          "output_type": "execute_result",
          "data": {
            "text/html": [
              "<div>\n",
              "<style scoped>\n",
              "    .dataframe tbody tr th:only-of-type {\n",
              "        vertical-align: middle;\n",
              "    }\n",
              "\n",
              "    .dataframe tbody tr th {\n",
              "        vertical-align: top;\n",
              "    }\n",
              "\n",
              "    .dataframe thead th {\n",
              "        text-align: right;\n",
              "    }\n",
              "</style>\n",
              "<table border=\"1\" class=\"dataframe\">\n",
              "  <thead>\n",
              "    <tr style=\"text-align: right;\">\n",
              "      <th></th>\n",
              "      <th>type</th>\n",
              "      <th>text</th>\n",
              "      <th>spam</th>\n",
              "    </tr>\n",
              "  </thead>\n",
              "  <tbody>\n",
              "    <tr>\n",
              "      <th>5367</th>\n",
              "      <td>spam</td>\n",
              "      <td>Get a brand new mobile phone by being an agent...</td>\n",
              "      <td>1</td>\n",
              "    </tr>\n",
              "    <tr>\n",
              "      <th>401</th>\n",
              "      <td>spam</td>\n",
              "      <td>YOU 07801543489 are guaranteed the latests Nok...</td>\n",
              "      <td>1</td>\n",
              "    </tr>\n",
              "    <tr>\n",
              "      <th>4286</th>\n",
              "      <td>ham</td>\n",
              "      <td>Whenevr ur sad, Whenevr ur gray, Remembr im he...</td>\n",
              "      <td>0</td>\n",
              "    </tr>\n",
              "    <tr>\n",
              "      <th>4052</th>\n",
              "      <td>spam</td>\n",
              "      <td>We tried to contact you re your reply to our o...</td>\n",
              "      <td>1</td>\n",
              "    </tr>\n",
              "    <tr>\n",
              "      <th>4706</th>\n",
              "      <td>spam</td>\n",
              "      <td>You have won a guaranteed £200 award or even £...</td>\n",
              "      <td>1</td>\n",
              "    </tr>\n",
              "  </tbody>\n",
              "</table>\n",
              "</div>"
            ],
            "text/plain": [
              "      type                                               text  spam\n",
              "5367  spam  Get a brand new mobile phone by being an agent...     1\n",
              "401   spam  YOU 07801543489 are guaranteed the latests Nok...     1\n",
              "4286   ham  Whenevr ur sad, Whenevr ur gray, Remembr im he...     0\n",
              "4052  spam  We tried to contact you re your reply to our o...     1\n",
              "4706  spam  You have won a guaranteed £200 award or even £...     1"
            ]
          },
          "metadata": {},
          "execution_count": 32
        }
      ]
    },
    {
      "cell_type": "code",
      "metadata": {
        "id": "_fbyjbOmr8Yq"
      },
      "source": [
        "from sklearn.model_selection import train_test_split\n",
        "X_train, x_test, Y_train,y_test = train_test_split(df_balanced['text'],df_balanced['spam'],stratify=df_balanced['spam'])"
      ],
      "execution_count": 33,
      "outputs": []
    },
    {
      "cell_type": "code",
      "metadata": {
        "colab": {
          "base_uri": "https://localhost:8080/"
        },
        "id": "3dLpDtPYtnlX",
        "outputId": "68200871-c39d-4d0f-8730-a6bad8e5c097"
      },
      "source": [
        "X_train.head(4)"
      ],
      "execution_count": 36,
      "outputs": [
        {
          "output_type": "execute_result",
          "data": {
            "text/plain": [
              "24        Could you not read me, my Love ? I answered you\n",
              "4670    Free 1st week entry 2 TEXTPOD 4 a chance 2 win...\n",
              "4153    Sure, if I get an acknowledgement from you tha...\n",
              "2008    Nope wif my sis lor... Aft bathing my dog then...\n",
              "Name: text, dtype: object"
            ]
          },
          "metadata": {},
          "execution_count": 36
        }
      ]
    },
    {
      "cell_type": "code",
      "metadata": {
        "id": "Z-LrWjLVvVhE"
      },
      "source": [
        "bert_process = hub.KerasLayer(\"https://tfhub.dev/tensorflow/bert_en_uncased_preprocess/3\")\n",
        "bert_encoder = hub.KerasLayer(\"https://tfhub.dev/tensorflow/bert_en_uncased_L-12_H-768_A-12/4\")"
      ],
      "execution_count": 37,
      "outputs": []
    },
    {
      "cell_type": "code",
      "metadata": {
        "id": "gEtGJTN4vVsa"
      },
      "source": [
        "bert_preprocess = bert_process"
      ],
      "execution_count": 38,
      "outputs": []
    },
    {
      "cell_type": "code",
      "metadata": {
        "colab": {
          "base_uri": "https://localhost:8080/"
        },
        "id": "paIVaRCbvVpC",
        "outputId": "42079cfc-ff2b-4841-9fd2-1633e3be15f3"
      },
      "source": [
        "# we will change now text to vector\n",
        "def get_sentence_embeding(sentences):\n",
        "  preprocessed_text = bert_preprocess(sentences)\n",
        "  return bert_encoder(preprocessed_text)['pooled_output']\n",
        "\n",
        "get_sentence_embeding([\n",
        "     \"500$ discount. hurry up\"\n",
        "     \"Bruce, are you up for a volleyball game tomorrow\"                  \n",
        "])\n"
      ],
      "execution_count": 40,
      "outputs": [
        {
          "output_type": "execute_result",
          "data": {
            "text/plain": [
              "<tf.Tensor: shape=(1, 768), dtype=float32, numpy=\n",
              "array([[-8.39025617e-01, -5.13813734e-01, -9.51817513e-01,\n",
              "         7.30669200e-01,  7.81262636e-01, -1.89104959e-01,\n",
              "         7.79591501e-01,  3.50309998e-01, -8.67254734e-01,\n",
              "        -9.99977648e-01, -6.91893280e-01,  9.26568508e-01,\n",
              "         9.66563463e-01,  6.50955260e-01,  8.64349902e-01,\n",
              "        -7.07003057e-01, -2.89691061e-01, -6.36357546e-01,\n",
              "         2.58588225e-01,  1.64557531e-01,  5.51032305e-01,\n",
              "         9.99996841e-01, -7.34829828e-02,  2.75680572e-01,\n",
              "         4.97888744e-01,  9.91961300e-01, -8.12384903e-01,\n",
              "         8.85936320e-01,  9.26385224e-01,  5.86375177e-01,\n",
              "        -4.36013043e-01,  1.56614557e-01, -9.73763525e-01,\n",
              "        -3.50685745e-01, -9.46337819e-01, -9.91601527e-01,\n",
              "         3.84132773e-01, -6.84077442e-01,  6.83104713e-03,\n",
              "         7.14796409e-02, -8.14062357e-01,  3.12948614e-01,\n",
              "         9.99974191e-01,  2.62498468e-01,  2.97461659e-01,\n",
              "        -2.52689362e-01, -1.00000000e+00,  2.11532459e-01,\n",
              "        -7.76463687e-01,  9.49725866e-01,  9.19536829e-01,\n",
              "         9.27372515e-01,  1.74732655e-01,  4.83989090e-01,\n",
              "         4.20753151e-01, -4.57856916e-02, -2.44363789e-02,\n",
              "         4.22995612e-02, -3.65822703e-01, -5.80155671e-01,\n",
              "        -6.62985682e-01,  5.15442908e-01, -9.38186646e-01,\n",
              "        -8.62419188e-01,  9.55304384e-01,  9.17384267e-01,\n",
              "        -1.82098135e-01, -3.68085742e-01, -2.22846940e-01,\n",
              "        -1.06138960e-01,  8.49175930e-01,  2.95230478e-01,\n",
              "        -1.75279543e-01, -8.60868335e-01,  7.10771680e-01,\n",
              "         3.66400063e-01, -7.47667670e-01,  1.00000000e+00,\n",
              "        -4.92498010e-01, -9.53251600e-01,  9.26822901e-01,\n",
              "         8.74316990e-01,  6.77609503e-01, -5.19224644e-01,\n",
              "         6.83384895e-01, -1.00000000e+00,  7.08750069e-01,\n",
              "        -7.31315613e-02, -9.82720196e-01,  2.04017058e-01,\n",
              "         6.34363830e-01, -3.19896042e-01,  7.21383452e-01,\n",
              "         6.45785153e-01, -7.47636020e-01, -5.11442661e-01,\n",
              "        -2.10752159e-01, -9.26070631e-01, -3.66366327e-01,\n",
              "        -3.66763592e-01,  1.49594977e-01, -1.51762873e-01,\n",
              "        -3.93783718e-01, -4.09163415e-01,  4.09904599e-01,\n",
              "        -5.49756110e-01, -2.95435011e-01,  5.45430601e-01,\n",
              "         1.09358825e-01,  7.16990709e-01,  5.61889946e-01,\n",
              "        -3.13872159e-01,  5.02686441e-01, -9.47675347e-01,\n",
              "         6.14130199e-01, -4.02185172e-01, -9.71915066e-01,\n",
              "        -6.94345355e-01, -9.80529606e-01,  6.28032684e-01,\n",
              "        -4.50298756e-01, -3.42599362e-01,  8.99266541e-01,\n",
              "        -3.60715836e-01,  5.13908029e-01, -1.36590404e-02,\n",
              "        -9.43684101e-01, -1.00000000e+00, -7.64227748e-01,\n",
              "        -6.71347022e-01, -3.42086732e-01, -3.47360462e-01,\n",
              "        -9.48407948e-01, -9.33925688e-01,  6.75596952e-01,\n",
              "         9.04779077e-01,  2.17471480e-01,  9.99903738e-01,\n",
              "        -1.94214866e-01,  9.09834862e-01, -4.60111439e-01,\n",
              "        -8.16542089e-01,  7.41167426e-01, -5.02494216e-01,\n",
              "         8.49501491e-01,  1.44119993e-01, -5.31730652e-01,\n",
              "         1.92360371e-01, -2.76473194e-01,  4.73821431e-01,\n",
              "        -7.18020082e-01, -1.44295856e-01, -8.10833097e-01,\n",
              "        -9.03732657e-01, -3.59817624e-01,  9.05723810e-01,\n",
              "        -7.15015173e-01, -9.51971889e-01, -2.65281796e-01,\n",
              "        -2.91906148e-01, -3.92623991e-01,  8.21745872e-01,\n",
              "         7.49304712e-01,  4.19480443e-01, -5.77642262e-01,\n",
              "         5.04078746e-01,  4.85594004e-01,  6.36173666e-01,\n",
              "        -7.72132695e-01, -2.02407062e-01,  4.81159061e-01,\n",
              "        -3.68913025e-01, -9.30815399e-01, -9.52765167e-01,\n",
              "        -4.36973631e-01,  5.71950793e-01,  9.72400904e-01,\n",
              "         5.80787420e-01,  3.50376546e-01,  7.82454669e-01,\n",
              "        -2.38775790e-01,  8.32617879e-01, -9.36816931e-01,\n",
              "         9.56882060e-01, -2.02457696e-01,  3.33475798e-01,\n",
              "        -1.89619809e-01,  7.25960314e-01, -7.20136285e-01,\n",
              "         2.69608259e-01,  7.30122566e-01, -7.64731765e-01,\n",
              "        -5.82660496e-01, -9.70753655e-02, -5.38096309e-01,\n",
              "        -3.47010404e-01, -8.40212464e-01,  2.59946734e-01,\n",
              "        -2.71742374e-01, -3.01104426e-01, -1.10571325e-01,\n",
              "         8.58030021e-01,  9.50747967e-01,  4.88491744e-01,\n",
              "         4.90449667e-01,  8.01067054e-01, -8.20475757e-01,\n",
              "        -4.11948591e-01, -7.85446540e-02,  2.06774697e-01,\n",
              "         2.32232943e-01,  9.80262280e-01, -7.92973399e-01,\n",
              "        -1.43082052e-01, -8.63866329e-01, -9.67538178e-01,\n",
              "        -3.48198451e-02, -7.99776256e-01, -2.14430109e-01,\n",
              "        -6.14299715e-01,  6.93773925e-01, -1.34329826e-01,\n",
              "         6.87020898e-01,  3.80019307e-01, -9.51162994e-01,\n",
              "        -6.58964813e-01,  3.63326669e-01, -5.24139822e-01,\n",
              "         4.78736550e-01, -1.65771022e-01,  8.16565275e-01,\n",
              "         9.77054298e-01, -5.78732789e-01,  4.28180218e-01,\n",
              "         9.18146551e-01, -9.51446712e-01, -6.53189778e-01,\n",
              "         5.80862045e-01, -2.78664619e-01,  7.73695171e-01,\n",
              "        -7.00736225e-01,  9.77837265e-01,  9.63388205e-01,\n",
              "         8.26227725e-01, -8.51130426e-01, -9.12184000e-01,\n",
              "        -6.73430920e-01, -7.92599380e-01, -1.11676708e-01,\n",
              "         3.80912125e-01,  9.43226099e-01,  7.07096040e-01,\n",
              "         4.55840707e-01, -2.68265605e-04, -5.75440526e-01,\n",
              "         9.70342755e-01, -8.13085258e-01, -9.23940659e-01,\n",
              "        -7.76425362e-01, -1.25929788e-01, -9.76123393e-01,\n",
              "         9.19760585e-01,  4.39944297e-01,  5.35430610e-01,\n",
              "        -4.52918559e-01, -6.70185626e-01, -9.20958459e-01,\n",
              "         6.92765296e-01,  6.55932575e-02,  9.54374611e-01,\n",
              "        -3.52477431e-01, -9.06781077e-01, -7.24259913e-01,\n",
              "        -8.89939129e-01, -2.69062877e-01, -1.81916565e-01,\n",
              "        -6.57821298e-01, -1.09561309e-01, -8.95966530e-01,\n",
              "         5.34340382e-01,  4.43509847e-01,  5.05581260e-01,\n",
              "        -9.26033914e-01,  9.96152580e-01,  1.00000000e+00,\n",
              "         9.29780662e-01,  8.41060400e-01,  8.29292297e-01,\n",
              "        -9.99945164e-01, -6.86143994e-01,  9.99994695e-01,\n",
              "        -9.95689034e-01, -1.00000000e+00, -8.68475199e-01,\n",
              "        -6.99634075e-01,  4.22584973e-02, -1.00000000e+00,\n",
              "        -2.85997331e-01,  4.35554273e-02, -8.67436767e-01,\n",
              "         7.81176925e-01,  9.48908329e-01,  9.70714390e-01,\n",
              "        -1.00000000e+00,  7.19223201e-01,  8.46967340e-01,\n",
              "        -7.54023433e-01,  9.71446157e-01, -4.03968304e-01,\n",
              "         9.45377588e-01,  6.20735824e-01,  5.11751175e-01,\n",
              "        -2.42806613e-01,  5.19042552e-01, -9.72504318e-01,\n",
              "        -7.76103020e-01, -7.18002260e-01, -8.07219207e-01,\n",
              "         9.99090672e-01,  1.45592526e-01, -8.01303267e-01,\n",
              "        -8.03725064e-01,  3.95977080e-01, -2.45742083e-01,\n",
              "         1.04918927e-01, -9.37740445e-01, -2.30047166e-01,\n",
              "         6.99223697e-01,  7.98443496e-01,  1.81239337e-01,\n",
              "         3.89691979e-01, -3.93002391e-01,  3.77813369e-01,\n",
              "         4.10319835e-01,  3.24264646e-01,  7.68534839e-01,\n",
              "        -9.29160237e-01, -2.30409190e-01, -6.14612877e-01,\n",
              "         3.69357727e-02, -7.84162402e-01, -9.52499688e-01,\n",
              "         9.28885460e-01, -4.77365166e-01,  9.11626935e-01,\n",
              "         1.00000000e+00,  3.21237743e-01, -7.50079274e-01,\n",
              "         7.56611228e-01,  2.35828117e-01, -4.22593385e-01,\n",
              "         1.00000000e+00,  8.76636922e-01, -9.61544514e-01,\n",
              "        -6.79135203e-01,  7.88165331e-01, -6.61471665e-01,\n",
              "        -6.85738325e-01,  9.99325335e-01, -3.15345794e-01,\n",
              "        -8.26964140e-01, -4.68400657e-01,  9.72429812e-01,\n",
              "        -9.80157435e-01,  9.98517752e-01, -8.26431811e-01,\n",
              "        -9.30592895e-01,  9.42478955e-01,  8.83742571e-01,\n",
              "        -7.81922698e-01, -6.51026785e-01,  2.50781238e-01,\n",
              "        -7.95061767e-01,  3.01788241e-01, -8.78390193e-01,\n",
              "         7.15971470e-01,  4.31282997e-01, -1.13477245e-01,\n",
              "         8.01283717e-01, -5.27972281e-01, -6.41431212e-01,\n",
              "         2.69269198e-01, -8.18096995e-01, -3.18336636e-01,\n",
              "         9.82191980e-01,  5.65787494e-01, -1.82428136e-01,\n",
              "        -5.70314154e-02, -2.67540008e-01, -5.34244835e-01,\n",
              "        -9.50240970e-01,  6.38036489e-01,  1.00000000e+00,\n",
              "        -4.32740867e-01,  7.92240918e-01, -5.61552107e-01,\n",
              "        -3.98113839e-02, -7.71426484e-02,  6.17196202e-01,\n",
              "         5.87506592e-01, -2.67532319e-01, -7.88764477e-01,\n",
              "         8.57850790e-01, -9.19045925e-01, -9.72896874e-01,\n",
              "         5.69058359e-01,  2.13133916e-01, -3.65965784e-01,\n",
              "         9.99991894e-01,  6.44953847e-01,  2.10534886e-01,\n",
              "         5.54739475e-01,  9.92114663e-01,  1.46055175e-02,\n",
              "         5.51326036e-01,  9.41820145e-01,  9.53834355e-01,\n",
              "        -2.63584316e-01,  6.87746465e-01,  5.99989653e-01,\n",
              "        -9.34889078e-01, -2.97064900e-01, -6.16703749e-01,\n",
              "         5.07748388e-02, -8.96690845e-01,  3.35088484e-02,\n",
              "        -9.09279466e-01,  9.28633988e-01,  9.79514241e-01,\n",
              "         4.22339290e-01,  3.24933052e-01,  7.76655018e-01,\n",
              "         1.00000000e+00, -7.34636426e-01,  5.27306616e-01,\n",
              "         2.93902010e-01,  6.65340126e-01, -9.99931097e-01,\n",
              "        -7.58705914e-01, -3.83535415e-01, -8.49669427e-02,\n",
              "        -9.12750363e-01, -3.51005584e-01,  4.23802286e-01,\n",
              "        -9.40308928e-01,  8.58566940e-01,  8.01645577e-01,\n",
              "        -9.67800498e-01, -9.79807436e-01, -6.17763281e-01,\n",
              "         6.42747521e-01,  2.08647698e-01, -9.87227917e-01,\n",
              "        -6.27264500e-01, -4.98546094e-01,  6.02624238e-01,\n",
              "        -2.99637735e-01, -8.90482187e-01, -2.97823071e-01,\n",
              "        -3.86409789e-01,  5.84942937e-01, -1.78682610e-01,\n",
              "         6.59126520e-01,  9.31046009e-01,  6.74160540e-01,\n",
              "        -7.56693602e-01, -5.08139968e-01, -1.99689806e-01,\n",
              "        -7.78982639e-01,  8.07891190e-01, -7.31647670e-01,\n",
              "        -9.16625619e-01, -2.66563088e-01,  1.00000000e+00,\n",
              "        -5.89835763e-01,  9.35412526e-01,  5.71160257e-01,\n",
              "         6.09218836e-01, -1.91361457e-01,  2.11712912e-01,\n",
              "         9.66970026e-01,  3.03356260e-01, -8.60980213e-01,\n",
              "        -9.10197437e-01,  1.71566918e-01, -4.37095314e-01,\n",
              "         6.30180001e-01,  6.68513596e-01,  7.98661172e-01,\n",
              "         6.74830735e-01,  8.42289686e-01,  1.22515954e-01,\n",
              "         1.88710093e-02,  3.11924852e-02,  9.95920599e-01,\n",
              "        -1.40042663e-01, -1.89526364e-01, -4.35830176e-01,\n",
              "        -2.91911904e-02, -4.05447990e-01, -4.09652069e-02,\n",
              "         1.00000000e+00,  2.31941864e-01,  5.72321892e-01,\n",
              "        -9.80424881e-01, -9.31794047e-01, -8.45033050e-01,\n",
              "         1.00000000e+00,  7.49053836e-01, -5.42900383e-01,\n",
              "         6.61191463e-01,  7.59854376e-01, -8.40653926e-02,\n",
              "         5.87906122e-01, -2.00609833e-01, -3.05090576e-01,\n",
              "         3.42446029e-01,  2.09892988e-01,  8.68800402e-01,\n",
              "        -6.47441745e-01, -9.48299766e-01, -7.16848552e-01,\n",
              "         4.19204205e-01, -9.17312205e-01,  9.99979734e-01,\n",
              "        -5.79479694e-01, -2.53650159e-01, -4.65126932e-01,\n",
              "        -2.76482366e-02, -5.30600786e-01, -4.97124456e-02,\n",
              "        -9.63815093e-01, -2.81447500e-01,  2.86551982e-01,\n",
              "         9.05592263e-01,  2.62416035e-01, -7.25879371e-01,\n",
              "        -8.06053758e-01,  9.06804860e-01,  8.63324702e-01,\n",
              "        -9.53383207e-01, -9.02399361e-01,  9.27109718e-01,\n",
              "        -9.67256427e-01,  6.51645720e-01,  1.00000000e+00,\n",
              "         3.90118301e-01,  2.92377353e-01,  2.66902834e-01,\n",
              "        -3.78964573e-01,  3.75232637e-01, -7.40870476e-01,\n",
              "         6.68072164e-01, -9.30100799e-01, -4.15417612e-01,\n",
              "        -1.79875985e-01,  2.96415091e-01, -6.93248808e-02,\n",
              "        -3.75454366e-01,  5.58337927e-01,  2.60647982e-01,\n",
              "        -6.54936075e-01, -6.97015166e-01,  4.27986644e-02,\n",
              "         4.24530357e-01,  8.42632830e-01, -3.08745772e-01,\n",
              "        -1.77849337e-01,  1.03245974e-01, -1.07619446e-02,\n",
              "        -8.65983486e-01, -3.18773478e-01, -4.46930319e-01,\n",
              "        -9.99998033e-01,  6.38109207e-01, -1.00000000e+00,\n",
              "         7.03013599e-01,  4.13292944e-01, -2.49018610e-01,\n",
              "         6.95008278e-01,  5.06616592e-01,  7.19817758e-01,\n",
              "        -5.53292871e-01, -9.23207879e-01,  2.90635556e-01,\n",
              "         7.10865259e-01, -3.41884464e-01, -5.74967444e-01,\n",
              "        -4.68151182e-01,  3.47179592e-01,  2.95358244e-02,\n",
              "         1.21445857e-01, -6.18879020e-01,  6.94851160e-01,\n",
              "        -1.47805721e-01,  1.00000000e+00,  2.66644061e-01,\n",
              "        -5.89234948e-01, -9.24294770e-01,  2.82291651e-01,\n",
              "        -3.25070113e-01,  1.00000000e+00, -6.61823273e-01,\n",
              "        -9.30572212e-01,  4.68262464e-01, -7.64653563e-01,\n",
              "        -7.77401626e-01,  3.82142395e-01,  1.67332273e-02,\n",
              "        -8.43029916e-01, -9.75288808e-01,  9.08201098e-01,\n",
              "         7.57584870e-01, -7.31137693e-01,  4.56658423e-01,\n",
              "        -3.22530717e-01, -5.75874507e-01,  3.34505513e-02,\n",
              "         9.31968451e-01,  9.74983811e-01,  6.31659687e-01,\n",
              "         7.34220922e-01,  8.35864842e-02, -3.44553798e-01,\n",
              "         9.42250669e-01,  2.72847652e-01, -1.30838513e-01,\n",
              "         1.20793954e-01,  1.00000000e+00,  3.77507895e-01,\n",
              "        -8.85147929e-01, -2.43771318e-02, -9.40052509e-01,\n",
              "        -2.66572356e-01, -9.11481082e-01,  2.82218009e-01,\n",
              "         2.20306203e-01,  7.87024498e-01, -2.29719654e-01,\n",
              "         8.74607623e-01, -8.91577721e-01, -5.27712405e-02,\n",
              "        -7.44633973e-01, -5.39074421e-01,  4.32492137e-01,\n",
              "        -8.43166649e-01, -9.67071652e-01, -9.62409139e-01,\n",
              "         6.77381754e-01, -4.35893387e-01, -3.19840424e-02,\n",
              "         1.86662346e-01,  9.46078673e-02,  4.79821950e-01,\n",
              "         4.99490261e-01, -1.00000000e+00,  8.96174014e-01,\n",
              "         4.12305832e-01,  9.49671566e-01,  9.09029961e-01,\n",
              "         8.29155862e-01,  4.98034060e-01,  3.36378992e-01,\n",
              "        -9.63278532e-01, -9.37966704e-01, -3.12479734e-01,\n",
              "        -1.87510192e-01,  6.58198118e-01,  6.26238525e-01,\n",
              "         8.36198390e-01,  4.27419543e-01, -4.82838780e-01,\n",
              "        -3.64792079e-01, -7.22725630e-01, -6.63743258e-01,\n",
              "        -9.85082388e-01,  5.10124147e-01, -6.12888455e-01,\n",
              "        -8.47563267e-01,  9.14680362e-01,  1.12033613e-01,\n",
              "        -5.31955324e-02, -3.94701898e-01, -8.78490567e-01,\n",
              "         8.60299289e-01,  7.69984961e-01,  1.97209612e-01,\n",
              "         1.42100770e-02,  3.61712873e-01,  7.77248144e-01,\n",
              "         9.03616965e-01,  9.70545948e-01, -9.16989326e-01,\n",
              "         7.16071308e-01, -7.64821649e-01,  5.67619264e-01,\n",
              "         8.37607443e-01, -9.02468085e-01,  1.54320925e-01,\n",
              "         4.51824695e-01, -4.93700624e-01,  3.32619548e-01,\n",
              "        -2.79133320e-01, -9.29121912e-01,  6.50030017e-01,\n",
              "        -4.47391093e-01,  5.65595031e-01, -4.72697556e-01,\n",
              "         1.02039278e-01, -4.70139772e-01, -1.33806318e-01,\n",
              "        -6.08690023e-01, -7.81274378e-01,  7.52889991e-01,\n",
              "         3.29146504e-01,  8.15980971e-01,  8.17668498e-01,\n",
              "        -1.03491778e-02, -7.22757161e-01, -1.31794542e-01,\n",
              "        -8.69946957e-01, -8.64808738e-01,  8.06038022e-01,\n",
              "        -6.85561150e-02, -5.25482476e-01,  7.79168785e-01,\n",
              "        -2.42896359e-02,  8.46875608e-01,  3.64664435e-01,\n",
              "        -3.81409645e-01, -2.80027837e-01, -5.89702964e-01,\n",
              "         7.69013047e-01, -4.44895506e-01, -6.32830441e-01,\n",
              "        -5.01061440e-01,  7.25396216e-01,  3.75166863e-01,\n",
              "         9.99995887e-01, -8.57868373e-01, -9.43557203e-01,\n",
              "        -4.81622845e-01, -4.59049791e-01,  4.33431625e-01,\n",
              "        -6.48251534e-01, -1.00000000e+00,  3.05180758e-01,\n",
              "        -6.13793790e-01,  7.80854642e-01, -8.08104992e-01,\n",
              "         9.31006134e-01, -7.58931100e-01, -9.59265709e-01,\n",
              "        -3.47989380e-01,  4.99953300e-01,  8.91292274e-01,\n",
              "        -5.04477084e-01, -7.50259936e-01,  7.25617290e-01,\n",
              "        -4.73104507e-01,  9.89741027e-01,  7.55105674e-01,\n",
              "        -1.29532009e-01, -1.76449284e-01,  7.54959464e-01,\n",
              "        -8.39268446e-01, -7.01489985e-01,  8.76241088e-01]], dtype=float32)>"
            ]
          },
          "metadata": {},
          "execution_count": 40
        }
      ]
    },
    {
      "cell_type": "code",
      "metadata": {
        "colab": {
          "base_uri": "https://localhost:8080/"
        },
        "id": "k481DqYRvVyL",
        "outputId": "de3710f3-b16a-4d16-d42f-8f9ae07446dd"
      },
      "source": [
        "from sklearn.metrics.pairwise import cosine_similarity\n",
        "cosine_similarity "
      ],
      "execution_count": 42,
      "outputs": [
        {
          "output_type": "execute_result",
          "data": {
            "text/plain": [
              "<function sklearn.metrics.pairwise.cosine_similarity>"
            ]
          },
          "metadata": {},
          "execution_count": 42
        }
      ]
    },
    {
      "cell_type": "code",
      "metadata": {
        "id": "hyZpxrmWvV3T"
      },
      "source": [
        "#creating Bert layers \n",
        "text_input = tf.keras.layers.Input(shape=(), dtype=tf.string, name =\"text\")\n",
        "preprocessed_text = bert_preprocess(text_input)\n",
        "outputs = bert_encoder(preprocessed_text)\n"
      ],
      "execution_count": 44,
      "outputs": []
    },
    {
      "cell_type": "code",
      "metadata": {
        "id": "QIGRufkhm9rX"
      },
      "source": [
        "#creating Neural Network layers \n",
        "l = tf.keras.layers.Dropout(0.1, name ='dropout')(outputs['pooled_output'])\n",
        "l = tf.keras.layers.Dense(1, activation = 'sigmoid', name = 'output')(l)\n",
        "\n",
        "#construct final model  \n",
        "model = tf.keras.Model(inputs =[text_input], outputs = [l])"
      ],
      "execution_count": 51,
      "outputs": []
    },
    {
      "cell_type": "code",
      "metadata": {
        "id": "j-173V1d56Is"
      },
      "source": [
        ""
      ],
      "execution_count": null,
      "outputs": []
    },
    {
      "cell_type": "code",
      "metadata": {
        "colab": {
          "base_uri": "https://localhost:8080/"
        },
        "id": "b_B8UsBl50z2",
        "outputId": "1adc7d1e-0dbd-4a56-99a6-4702729bbc1e"
      },
      "source": [
        "model.summary()"
      ],
      "execution_count": 52,
      "outputs": [
        {
          "output_type": "stream",
          "name": "stdout",
          "text": [
            "Model: \"model_1\"\n",
            "__________________________________________________________________________________________________\n",
            " Layer (type)                   Output Shape         Param #     Connected to                     \n",
            "==================================================================================================\n",
            " text (InputLayer)              [(None,)]            0           []                               \n",
            "                                                                                                  \n",
            " keras_layer (KerasLayer)       {'input_type_ids':   0           ['text[0][0]']                   \n",
            "                                (None, 128),                                                      \n",
            "                                 'input_mask': (Non                                               \n",
            "                                e, 128),                                                          \n",
            "                                 'input_word_ids':                                                \n",
            "                                (None, 128)}                                                      \n",
            "                                                                                                  \n",
            " keras_layer_1 (KerasLayer)     {'sequence_output':  109482241   ['keras_layer[0][0]',            \n",
            "                                 (None, 128, 768),                'keras_layer[0][1]',            \n",
            "                                 'pooled_output': (               'keras_layer[0][2]']            \n",
            "                                None, 768),                                                       \n",
            "                                 'encoder_outputs':                                               \n",
            "                                 [(None, 128, 768),                                               \n",
            "                                 (None, 128, 768),                                                \n",
            "                                 (None, 128, 768),                                                \n",
            "                                 (None, 128, 768),                                                \n",
            "                                 (None, 128, 768),                                                \n",
            "                                 (None, 128, 768),                                                \n",
            "                                 (None, 128, 768),                                                \n",
            "                                 (None, 128, 768),                                                \n",
            "                                 (None, 128, 768),                                                \n",
            "                                 (None, 128, 768),                                                \n",
            "                                 (None, 128, 768),                                                \n",
            "                                 (None, 128, 768)],                                               \n",
            "                                 'default': (None,                                                \n",
            "                                768)}                                                             \n",
            "                                                                                                  \n",
            " dropout (Dropout)              (None, 768)          0           ['keras_layer_1[0][13]']         \n",
            "                                                                                                  \n",
            " output (Dense)                 (None, 1)            769         ['dropout[0][0]']                \n",
            "                                                                                                  \n",
            "==================================================================================================\n",
            "Total params: 109,483,010\n",
            "Trainable params: 769\n",
            "Non-trainable params: 109,482,241\n",
            "__________________________________________________________________________________________________\n"
          ]
        }
      ]
    },
    {
      "cell_type": "code",
      "metadata": {
        "id": "sXh_5qC_502x"
      },
      "source": [
        "METRICS = [\n",
        "           tf.keras.metrics.BinaryAccuracy(name='accuracy'),\n",
        "           tf.keras.metrics.Precision(name='precision'),\n",
        "           tf.keras.metrics.Recall(name='recall')\n",
        "]\n",
        "\n",
        "model.compile(optimizer='adam',\n",
        "              loss='binary_crossentropy',\n",
        "              metrics=METRICS)"
      ],
      "execution_count": 53,
      "outputs": []
    },
    {
      "cell_type": "code",
      "metadata": {
        "colab": {
          "base_uri": "https://localhost:8080/"
        },
        "id": "juYPv6ID506_",
        "outputId": "d78a1f7a-107e-4537-e1a6-b5b6bb7404b0"
      },
      "source": [
        "model.fit(X_train,Y_train,epochs=10)"
      ],
      "execution_count": 55,
      "outputs": [
        {
          "output_type": "stream",
          "name": "stdout",
          "text": [
            "Epoch 1/10\n",
            "35/35 [==============================] - 505s 14s/step - loss: 0.6614 - accuracy: 0.6071 - precision: 0.6158 - recall: 0.5696\n",
            "Epoch 2/10\n",
            "35/35 [==============================] - 480s 14s/step - loss: 0.5269 - accuracy: 0.8134 - precision: 0.7970 - recall: 0.8411\n",
            "Epoch 3/10\n",
            "35/35 [==============================] - 477s 14s/step - loss: 0.4504 - accuracy: 0.8518 - precision: 0.8283 - recall: 0.8875\n",
            "Epoch 4/10\n",
            "35/35 [==============================] - 481s 14s/step - loss: 0.4024 - accuracy: 0.8732 - precision: 0.8616 - recall: 0.8893\n",
            "Epoch 5/10\n",
            "35/35 [==============================] - 501s 14s/step - loss: 0.3730 - accuracy: 0.8759 - precision: 0.8648 - recall: 0.8911\n",
            "Epoch 6/10\n",
            "35/35 [==============================] - 500s 14s/step - loss: 0.3457 - accuracy: 0.8911 - precision: 0.8750 - recall: 0.9125\n",
            "Epoch 7/10\n",
            "35/35 [==============================] - 491s 14s/step - loss: 0.3306 - accuracy: 0.8848 - precision: 0.8646 - recall: 0.9125\n",
            "Epoch 8/10\n",
            "35/35 [==============================] - 491s 14s/step - loss: 0.3127 - accuracy: 0.8920 - precision: 0.8778 - recall: 0.9107\n",
            "Epoch 9/10\n",
            "35/35 [==============================] - 503s 14s/step - loss: 0.3015 - accuracy: 0.8946 - precision: 0.8877 - recall: 0.9036\n",
            "Epoch 10/10\n",
            "35/35 [==============================] - 512s 15s/step - loss: 0.2893 - accuracy: 0.8982 - precision: 0.8793 - recall: 0.9232\n"
          ]
        },
        {
          "output_type": "execute_result",
          "data": {
            "text/plain": [
              "<keras.callbacks.History at 0x7f6646bef310>"
            ]
          },
          "metadata": {},
          "execution_count": 55
        }
      ]
    },
    {
      "cell_type": "code",
      "metadata": {
        "colab": {
          "base_uri": "https://localhost:8080/"
        },
        "id": "weO5FSuQ9ZVl",
        "outputId": "f98471b0-090f-40df-f607-600e55bce3ee"
      },
      "source": [
        "model.evaluate(x_test,y_test)"
      ],
      "execution_count": 56,
      "outputs": [
        {
          "output_type": "stream",
          "name": "stdout",
          "text": [
            "12/12 [==============================] - 172s 14s/step - loss: 0.2667 - accuracy: 0.9144 - precision: 0.9016 - recall: 0.9305\n"
          ]
        },
        {
          "output_type": "execute_result",
          "data": {
            "text/plain": [
              "[0.26668766140937805,\n",
              " 0.9144384860992432,\n",
              " 0.9015544056892395,\n",
              " 0.9304812550544739]"
            ]
          },
          "metadata": {},
          "execution_count": 56
        }
      ]
    },
    {
      "cell_type": "code",
      "metadata": {
        "id": "UaNpDhu981zu"
      },
      "source": [
        "y_predicted = model.predict(x_test)\n",
        "y_predicted = y_predicted.flatten() #converting 2 dimention array to one dimention array"
      ],
      "execution_count": 57,
      "outputs": []
    },
    {
      "cell_type": "code",
      "metadata": {
        "colab": {
          "base_uri": "https://localhost:8080/"
        },
        "id": "Z1h9Y2Ps813e",
        "outputId": "76fb21a8-d693-421b-a692-cb722584825c"
      },
      "source": [
        "import numpy as np \n",
        "y_predicted = np.where(y_predicted > 0.5, 1, 0)\n",
        "y_predicted"
      ],
      "execution_count": 58,
      "outputs": [
        {
          "output_type": "execute_result",
          "data": {
            "text/plain": [
              "array([1, 0, 1, 1, 1, 0, 1, 1, 1, 1, 0, 1, 1, 1, 1, 0, 0, 1, 0, 1, 1, 0,\n",
              "       1, 0, 1, 1, 0, 1, 0, 1, 1, 1, 1, 1, 0, 1, 1, 0, 0, 1, 0, 1, 1, 0,\n",
              "       0, 0, 0, 1, 0, 1, 0, 1, 0, 0, 0, 0, 0, 0, 1, 1, 1, 0, 1, 1, 1, 1,\n",
              "       0, 0, 1, 1, 0, 1, 1, 1, 1, 0, 1, 1, 1, 0, 0, 0, 1, 1, 1, 0, 1, 1,\n",
              "       0, 1, 1, 0, 1, 0, 1, 1, 1, 0, 0, 1, 1, 0, 1, 1, 0, 1, 1, 0, 1, 1,\n",
              "       1, 0, 0, 0, 0, 1, 1, 1, 0, 1, 1, 0, 0, 0, 0, 0, 0, 0, 1, 1, 1, 1,\n",
              "       0, 0, 1, 0, 0, 1, 1, 0, 0, 0, 0, 0, 1, 0, 1, 1, 0, 0, 0, 0, 0, 1,\n",
              "       0, 1, 0, 1, 0, 1, 0, 0, 0, 0, 0, 1, 0, 1, 0, 0, 1, 0, 1, 1, 1, 0,\n",
              "       1, 0, 1, 1, 1, 0, 0, 0, 1, 1, 1, 1, 1, 0, 0, 1, 0, 1, 0, 0, 1, 0,\n",
              "       0, 0, 1, 1, 1, 0, 0, 1, 0, 1, 0, 0, 0, 0, 1, 1, 0, 0, 0, 1, 0, 0,\n",
              "       1, 0, 0, 1, 1, 0, 0, 0, 0, 1, 0, 0, 0, 1, 0, 0, 0, 0, 0, 1, 0, 1,\n",
              "       0, 0, 1, 0, 0, 1, 1, 1, 1, 0, 1, 1, 0, 1, 1, 1, 0, 1, 0, 0, 0, 1,\n",
              "       0, 1, 0, 0, 1, 0, 0, 1, 0, 1, 0, 1, 1, 1, 0, 1, 1, 0, 1, 1, 0, 1,\n",
              "       1, 1, 0, 1, 0, 1, 0, 1, 0, 0, 1, 0, 0, 1, 1, 1, 0, 0, 1, 1, 0, 0,\n",
              "       0, 0, 1, 1, 1, 0, 0, 1, 0, 0, 1, 1, 1, 0, 0, 1, 1, 0, 0, 0, 1, 0,\n",
              "       0, 1, 0, 1, 1, 0, 1, 0, 1, 1, 0, 0, 0, 1, 1, 0, 1, 1, 0, 0, 1, 1,\n",
              "       0, 0, 1, 1, 1, 1, 1, 1, 1, 0, 1, 1, 1, 1, 1, 0, 0, 1, 1, 1, 1, 0])"
            ]
          },
          "metadata": {},
          "execution_count": 58
        }
      ]
    },
    {
      "cell_type": "code",
      "metadata": {
        "colab": {
          "base_uri": "https://localhost:8080/"
        },
        "id": "q9KGogqt817R",
        "outputId": "4d3c816c-6e94-43ed-eea1-395fe040a1b3"
      },
      "source": [
        "from sklearn.metrics import confusion_matrix, classification_report\n",
        "\n",
        "cm = confusion_matrix(y_test, y_predicted)\n",
        "cm"
      ],
      "execution_count": 59,
      "outputs": [
        {
          "output_type": "execute_result",
          "data": {
            "text/plain": [
              "array([[168,  19],\n",
              "       [ 13, 174]])"
            ]
          },
          "metadata": {},
          "execution_count": 59
        }
      ]
    },
    {
      "cell_type": "code",
      "metadata": {
        "colab": {
          "base_uri": "https://localhost:8080/",
          "height": 296
        },
        "id": "jy5m-H8u50-0",
        "outputId": "5834bb8d-755b-4ff2-cedd-d555d2044158"
      },
      "source": [
        "from matplotlib import pyplot as plt \n",
        "import seaborn as sns\n",
        "sns.heatmap(cm, annot=True, fmt= 'd')\n",
        "plt.xlabel('Predicted')\n",
        "plt.ylabel('Truth')"
      ],
      "execution_count": 60,
      "outputs": [
        {
          "output_type": "execute_result",
          "data": {
            "text/plain": [
              "Text(33.0, 0.5, 'Truth')"
            ]
          },
          "metadata": {},
          "execution_count": 60
        },
        {
          "output_type": "display_data",
          "data": {
            "image/png": "[encoded data removed]",
            "text/plain": [
              "<Figure size 432x288 with 2 Axes>"
            ]
          },
          "metadata": {
            "needs_background": "light"
          }
        }
      ]
    },
    {
      "cell_type": "code",
      "metadata": {
        "colab": {
          "base_uri": "https://localhost:8080/"
        },
        "id": "7rML2sgo-JHw",
        "outputId": "82725bd1-7b03-4d35-e154-5a8f903f8fb8"
      },
      "source": [
        "print(classification_report(y_test,y_predicted))"
      ],
      "execution_count": 63,
      "outputs": [
        {
          "output_type": "stream",
          "name": "stdout",
          "text": [
            "              precision    recall  f1-score   support\n",
            "\n",
            "           0       0.93      0.90      0.91       187\n",
            "           1       0.90      0.93      0.92       187\n",
            "\n",
            "    accuracy                           0.91       374\n",
            "   macro avg       0.91      0.91      0.91       374\n",
            "weighted avg       0.91      0.91      0.91       374\n",
            "\n"
          ]
        }
      ]
    },
    {
      "cell_type": "code",
      "metadata": {
        "id": "EB3d3a7a51Bz"
      },
      "source": [
        ""
      ],
      "execution_count": null,
      "outputs": []
    },
    {
      "cell_type": "code",
      "metadata": {
        "id": "1mei3Kyr51Ed"
      },
      "source": [
        ""
      ],
      "execution_count": null,
      "outputs": []
    },
    {
      "cell_type": "code",
      "metadata": {
        "id": "dMycA9hSxyFF"
      },
      "source": [
        ""
      ],
      "execution_count": null,
      "outputs": []
    }
  ]
}